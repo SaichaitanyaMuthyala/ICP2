{
  "nbformat": 4,
  "nbformat_minor": 0,
  "metadata": {
    "colab": {
      "provenance": []
    },
    "kernelspec": {
      "name": "python3",
      "display_name": "Python 3"
    },
    "language_info": {
      "name": "python"
    }
  },
  "cells": [
    {
      "cell_type": "code",
      "execution_count": 8,
      "metadata": {
        "colab": {
          "base_uri": "https://localhost:8080/"
        },
        "id": "vHG00zUU6IRo",
        "outputId": "e7da740b-1778-4eaf-8b14-d0ff4d2e2735"
      },
      "outputs": [
        {
          "output_type": "stream",
          "name": "stdout",
          "text": [
            "\n",
            "* \n",
            "* * \n",
            "* * * \n",
            "* * * * \n",
            "* * * * * \n",
            "* * * * \n",
            "* * * \n",
            "* * \n",
            "* \n",
            "\n"
          ]
        }
      ],
      "source": [
        "r = 5\n",
        "for i in range(r+1):\n",
        "  for j in range(i):\n",
        "    print(\"*\",end=\" \" )\n",
        "  print()\n",
        "for i in reversed(range(r)):\n",
        "  for j in range(i):\n",
        "    print(\"*\",end=\" \")\n",
        "  print()\n",
        "\n",
        "\n"
      ]
    },
    {
      "cell_type": "code",
      "source": [
        "my_list = [10, 20, 30, 40, 50, 60, 70, 80, 90, 100]\n",
        "for i in range(len(my_list)):\n",
        "  if i%2!=0:\n",
        "    print(my_list[i])"
      ],
      "metadata": {
        "colab": {
          "base_uri": "https://localhost:8080/"
        },
        "id": "ogSuh7SZ_0AZ",
        "outputId": "d11f750b-dd25-404c-f2de-cc9c945036a9"
      },
      "execution_count": 9,
      "outputs": [
        {
          "output_type": "stream",
          "name": "stdout",
          "text": [
            "20\n",
            "40\n",
            "60\n",
            "80\n",
            "100\n"
          ]
        }
      ]
    },
    {
      "cell_type": "code",
      "source": [
        "x = [23, \"Python\", 23.98]\n",
        "y=[]\n",
        "for i in x:\n",
        "  y.append(type(i))\n",
        "print (x)\n",
        "print(y)\n"
      ],
      "metadata": {
        "colab": {
          "base_uri": "https://localhost:8080/"
        },
        "id": "UMiHylH9AWJp",
        "outputId": "68a0f984-8868-4c87-8811-b81485aef476"
      },
      "execution_count": 13,
      "outputs": [
        {
          "output_type": "stream",
          "name": "stdout",
          "text": [
            "[23, 'Python', 23.98]\n",
            "[<class 'int'>, <class 'str'>, <class 'float'>]\n"
          ]
        }
      ]
    },
    {
      "cell_type": "code",
      "source": [
        "Sample_List= [1,2,3,3,3,3,4,5]\n",
        "def unq(mylist):\n",
        "  a=set(mylist)\n",
        "  a=list(a)\n",
        "  return a\n",
        "unq(Sample_List)"
      ],
      "metadata": {
        "colab": {
          "base_uri": "https://localhost:8080/"
        },
        "id": "-5xPdqVsAh9e",
        "outputId": "5aeba317-379b-4e3a-b5e7-2ed9d4ae4034"
      },
      "execution_count": 25,
      "outputs": [
        {
          "output_type": "execute_result",
          "data": {
            "text/plain": [
              "[1, 2, 3, 4, 5]"
            ]
          },
          "metadata": {},
          "execution_count": 25
        }
      ]
    },
    {
      "cell_type": "code",
      "source": [
        "Input_String= 'The quick Brow Fox'\n",
        "u=0\n",
        "l=0\n",
        "for i in Input_String:\n",
        "  if(i!=\" \"):\n",
        "    if(i.isupper()):\n",
        "      u+=1\n",
        "    else:\n",
        "      l+=1\n",
        "print(\"No. of Upper-case characters : \", u)\n",
        "print(\"No. of Lower-case characters : \", l)"
      ],
      "metadata": {
        "colab": {
          "base_uri": "https://localhost:8080/"
        },
        "id": "FNFHqcYPBhEu",
        "outputId": "2eae49e1-9e91-4dbe-86ed-9b4ec8d4947d"
      },
      "execution_count": 24,
      "outputs": [
        {
          "output_type": "stream",
          "name": "stdout",
          "text": [
            "No. of Upper-case characters :  3\n",
            "No. of Lower-case characters :  12\n"
          ]
        }
      ]
    },
    {
      "cell_type": "code",
      "source": [],
      "metadata": {
        "id": "bwdyuoHYDDJo"
      },
      "execution_count": null,
      "outputs": []
    }
  ]
}